{
 "cells": [
  {
   "cell_type": "code",
   "execution_count": 1,
   "id": "d022a34d-9c6d-46af-91f8-83c681018250",
   "metadata": {},
   "outputs": [],
   "source": [
    "import numpy as np\n",
    "from tensorflow.keras.layers import Conv2D, MaxPooling2D, Flatten, Input, Dense\n",
    "from tensorflow.keras.models import Sequential\n",
    "from tensorflow.keras.preprocessing.image import ImageDataGenerator\n",
    "from tensorflow.keras.optimizers import SGD"
   ]
  },
  {
   "cell_type": "code",
   "execution_count": 2,
   "id": "1fbc8946-5f7b-4745-b586-700bc5fced2b",
   "metadata": {
    "scrolled": true,
    "tags": []
   },
   "outputs": [],
   "source": [
    "model = Sequential()\n",
    "model.add(Conv2D(filters=32, kernel_size=(3, 3), activation='relu', input_shape=(150, 150, 3)))\n",
    "model.add(MaxPooling2D())\n",
    "model.add(Flatten())\n",
    "model.add(Dense(64, activation='relu'))\n",
    "model.add(Dense(1, activation='sigmoid'))"
   ]
  },
  {
   "cell_type": "code",
   "execution_count": 3,
   "id": "f4bf32c3-f42c-4f60-8671-fe609ab29c7a",
   "metadata": {},
   "outputs": [],
   "source": [
    "model.compile(optimizer=SGD(learning_rate=0.002, momentum=0.8), loss='binary_crossentropy', metrics=['accuracy'])"
   ]
  },
  {
   "cell_type": "code",
   "execution_count": 4,
   "id": "ca0bb266-81c0-43fd-8512-2eba9871b51b",
   "metadata": {},
   "outputs": [
    {
     "name": "stdout",
     "output_type": "stream",
     "text": [
      "Model: \"sequential\"\n",
      "_________________________________________________________________\n",
      " Layer (type)                Output Shape              Param #   \n",
      "=================================================================\n",
      " conv2d (Conv2D)             (None, 148, 148, 32)      896       \n",
      "                                                                 \n",
      " max_pooling2d (MaxPooling2D  (None, 74, 74, 32)       0         \n",
      " )                                                               \n",
      "                                                                 \n",
      " flatten (Flatten)           (None, 175232)            0         \n",
      "                                                                 \n",
      " dense (Dense)               (None, 64)                11214912  \n",
      "                                                                 \n",
      " dense_1 (Dense)             (None, 1)                 65        \n",
      "                                                                 \n",
      "=================================================================\n",
      "Total params: 11,215,873\n",
      "Trainable params: 11,215,873\n",
      "Non-trainable params: 0\n",
      "_________________________________________________________________\n"
     ]
    }
   ],
   "source": [
    "model.summary()"
   ]
  },
  {
   "cell_type": "code",
   "execution_count": 5,
   "id": "a9550840-fec2-47c0-980b-001f18921ac2",
   "metadata": {
    "scrolled": true,
    "tags": []
   },
   "outputs": [
    {
     "name": "stdout",
     "output_type": "stream",
     "text": [
      "Found 1596 images belonging to 2 classes.\n",
      "Found 395 images belonging to 2 classes.\n"
     ]
    }
   ],
   "source": [
    "train_data_gen = ImageDataGenerator(rescale=1./255)\n",
    "train_image_data = train_data_gen.flow_from_directory('./train', batch_size=20, shuffle=True, class_mode='binary', target_size=(150,150))\n",
    "\n",
    "test_data_gen = ImageDataGenerator(rescale=1./255)\n",
    "test_image_data = test_data_gen.flow_from_directory('./test', batch_size=20, shuffle=False, class_mode='binary', target_size=(150,150))"
   ]
  },
  {
   "cell_type": "code",
   "execution_count": 6,
   "id": "8c625686-8855-4786-847e-449ea9baceb2",
   "metadata": {},
   "outputs": [
    {
     "name": "stdout",
     "output_type": "stream",
     "text": [
      "Epoch 1/10\n",
      "80/80 [==============================] - 7s 55ms/step - loss: 0.6350 - accuracy: 0.6523 - val_loss: 0.5902 - val_accuracy: 0.6177\n",
      "Epoch 2/10\n",
      "80/80 [==============================] - 4s 51ms/step - loss: 0.5040 - accuracy: 0.7726 - val_loss: 0.4393 - val_accuracy: 0.8304\n",
      "Epoch 3/10\n",
      "80/80 [==============================] - 4s 51ms/step - loss: 0.4206 - accuracy: 0.8258 - val_loss: 0.3810 - val_accuracy: 0.8253\n",
      "Epoch 4/10\n",
      "80/80 [==============================] - 4s 52ms/step - loss: 0.3710 - accuracy: 0.8427 - val_loss: 0.3531 - val_accuracy: 0.8481\n",
      "Epoch 5/10\n",
      "80/80 [==============================] - 4s 52ms/step - loss: 0.3482 - accuracy: 0.8584 - val_loss: 0.3340 - val_accuracy: 0.8557\n",
      "Epoch 6/10\n",
      "80/80 [==============================] - 4s 52ms/step - loss: 0.3026 - accuracy: 0.8841 - val_loss: 0.3222 - val_accuracy: 0.8557\n",
      "Epoch 7/10\n",
      "80/80 [==============================] - 4s 51ms/step - loss: 0.2788 - accuracy: 0.8910 - val_loss: 0.3130 - val_accuracy: 0.8709\n",
      "Epoch 8/10\n",
      "80/80 [==============================] - 4s 50ms/step - loss: 0.2486 - accuracy: 0.9048 - val_loss: 0.3281 - val_accuracy: 0.8481\n",
      "Epoch 9/10\n",
      "80/80 [==============================] - 4s 51ms/step - loss: 0.2246 - accuracy: 0.9217 - val_loss: 0.2960 - val_accuracy: 0.8759\n",
      "Epoch 10/10\n",
      "80/80 [==============================] - 4s 51ms/step - loss: 0.1945 - accuracy: 0.9254 - val_loss: 0.2928 - val_accuracy: 0.8709\n"
     ]
    }
   ],
   "source": [
    "history = model.fit(train_image_data, epochs=10, verbose=1, validation_data=test_image_data)"
   ]
  },
  {
   "cell_type": "code",
   "execution_count": 7,
   "id": "f1984f6e-1e2d-44c2-8375-84fec090d9b3",
   "metadata": {},
   "outputs": [
    {
     "name": "stdout",
     "output_type": "stream",
     "text": [
      "0.8712406158447266\n"
     ]
    }
   ],
   "source": [
    "print(np.median(history.history['accuracy']))"
   ]
  },
  {
   "cell_type": "code",
   "execution_count": 8,
   "id": "17ce37a1-079e-496e-9ad3-bdd0bf65c915",
   "metadata": {},
   "outputs": [
    {
     "name": "stdout",
     "output_type": "stream",
     "text": [
      "0.1295098409245225\n"
     ]
    }
   ],
   "source": [
    "print(np.std(history.history['loss']))"
   ]
  },
  {
   "cell_type": "code",
   "execution_count": 10,
   "id": "be821cd3-5561-4d5b-9b68-5850bddfd8c6",
   "metadata": {},
   "outputs": [
    {
     "name": "stdout",
     "output_type": "stream",
     "text": [
      "Found 1596 images belonging to 2 classes.\n",
      "Found 395 images belonging to 2 classes.\n"
     ]
    }
   ],
   "source": [
    "train_data_gen_with_augments = ImageDataGenerator(rescale=1./255, \n",
    "                                    rotation_range=40,\n",
    "                                    width_shift_range=0.2,\n",
    "                                    height_shift_range=0.2,\n",
    "                                    shear_range=0.2,\n",
    "                                    zoom_range=0.2,\n",
    "                                    horizontal_flip=True,\n",
    "                                    fill_mode='nearest')\n",
    "train_image_data_with_augments = train_data_gen.flow_from_directory('./train', batch_size=20, shuffle=True, class_mode='binary', target_size=(150,150))\n",
    "\n",
    "test_data_gen_with_augments = ImageDataGenerator(rescale=1./255,\n",
    "                                    rotation_range=40,\n",
    "                                    width_shift_range=0.2,\n",
    "                                    height_shift_range=0.2,\n",
    "                                    shear_range=0.2,\n",
    "                                    zoom_range=0.2,\n",
    "                                    horizontal_flip=True,\n",
    "                                    fill_mode='nearest')\n",
    "test_image_data_with_augments = test_data_gen.flow_from_directory('./test', batch_size=20, shuffle=False, class_mode='binary', target_size=(150,150))"
   ]
  },
  {
   "cell_type": "code",
   "execution_count": 11,
   "id": "7cd0954c-bfad-4ce3-a6cf-e9f8175727ee",
   "metadata": {},
   "outputs": [
    {
     "name": "stdout",
     "output_type": "stream",
     "text": [
      "Epoch 1/20\n",
      "80/80 [==============================] - 13s 158ms/step - loss: 0.4471 - accuracy: 0.7920 - val_loss: 0.4228 - val_accuracy: 0.8101\n",
      "Epoch 2/20\n",
      "80/80 [==============================] - 13s 158ms/step - loss: 0.4340 - accuracy: 0.8008 - val_loss: 0.3964 - val_accuracy: 0.8253\n",
      "Epoch 3/20\n",
      "80/80 [==============================] - 13s 157ms/step - loss: 0.4013 - accuracy: 0.8221 - val_loss: 0.4020 - val_accuracy: 0.8076\n",
      "Epoch 4/20\n",
      "80/80 [==============================] - 13s 158ms/step - loss: 0.4199 - accuracy: 0.8177 - val_loss: 0.3648 - val_accuracy: 0.8405\n",
      "Epoch 5/20\n",
      "80/80 [==============================] - 12s 155ms/step - loss: 0.3939 - accuracy: 0.8214 - val_loss: 0.3472 - val_accuracy: 0.8329\n",
      "Epoch 6/20\n",
      "80/80 [==============================] - 12s 155ms/step - loss: 0.4141 - accuracy: 0.8139 - val_loss: 0.3786 - val_accuracy: 0.8253\n",
      "Epoch 7/20\n",
      "80/80 [==============================] - 12s 155ms/step - loss: 0.3721 - accuracy: 0.8490 - val_loss: 0.3417 - val_accuracy: 0.8658\n",
      "Epoch 8/20\n",
      "80/80 [==============================] - 13s 156ms/step - loss: 0.3691 - accuracy: 0.8452 - val_loss: 0.4690 - val_accuracy: 0.7848\n",
      "Epoch 9/20\n",
      "80/80 [==============================] - 12s 156ms/step - loss: 0.3581 - accuracy: 0.8396 - val_loss: 0.4100 - val_accuracy: 0.7899\n",
      "Epoch 10/20\n",
      "80/80 [==============================] - 13s 157ms/step - loss: 0.3514 - accuracy: 0.8528 - val_loss: 0.3882 - val_accuracy: 0.8253\n",
      "Epoch 11/20\n",
      "80/80 [==============================] - 13s 157ms/step - loss: 0.3672 - accuracy: 0.8358 - val_loss: 0.3541 - val_accuracy: 0.8684\n",
      "Epoch 12/20\n",
      "80/80 [==============================] - 12s 156ms/step - loss: 0.3515 - accuracy: 0.8521 - val_loss: 0.3409 - val_accuracy: 0.8658\n",
      "Epoch 13/20\n",
      "80/80 [==============================] - 12s 156ms/step - loss: 0.3516 - accuracy: 0.8471 - val_loss: 0.3475 - val_accuracy: 0.8481\n",
      "Epoch 14/20\n",
      "80/80 [==============================] - 13s 158ms/step - loss: 0.3424 - accuracy: 0.8603 - val_loss: 0.5977 - val_accuracy: 0.7266\n",
      "Epoch 15/20\n",
      "80/80 [==============================] - 13s 157ms/step - loss: 0.3281 - accuracy: 0.8559 - val_loss: 0.3157 - val_accuracy: 0.8684\n",
      "Epoch 16/20\n",
      "80/80 [==============================] - 12s 156ms/step - loss: 0.2999 - accuracy: 0.8803 - val_loss: 0.3262 - val_accuracy: 0.8506\n",
      "Epoch 17/20\n",
      "80/80 [==============================] - 13s 157ms/step - loss: 0.3326 - accuracy: 0.8503 - val_loss: 0.3716 - val_accuracy: 0.8278\n",
      "Epoch 18/20\n",
      "80/80 [==============================] - 13s 158ms/step - loss: 0.3336 - accuracy: 0.8546 - val_loss: 0.3165 - val_accuracy: 0.8810\n",
      "Epoch 19/20\n",
      "80/80 [==============================] - 13s 158ms/step - loss: 0.3005 - accuracy: 0.8753 - val_loss: 0.3040 - val_accuracy: 0.8658\n",
      "Epoch 20/20\n",
      "80/80 [==============================] - 13s 158ms/step - loss: 0.2984 - accuracy: 0.8778 - val_loss: 0.3415 - val_accuracy: 0.8608\n"
     ]
    }
   ],
   "source": [
    "history_with_augmentation = model.fit(train_image_data_with_augments, epochs=20, validation_data=test_image_data_with_augments, verbose=1)"
   ]
  },
  {
   "cell_type": "code",
   "execution_count": 12,
   "id": "de4c74f5-7be9-4df4-91c3-4edec49e0c7a",
   "metadata": {},
   "outputs": [
    {
     "name": "stdout",
     "output_type": "stream",
     "text": [
      "0.3768269166350365\n"
     ]
    }
   ],
   "source": [
    "print(np.mean(history_with_augmentation.history['val_loss']))"
   ]
  },
  {
   "cell_type": "code",
   "execution_count": 14,
   "id": "623e2c2e-f19a-4075-8ace-adaf4e783c4b",
   "metadata": {},
   "outputs": [
    {
     "name": "stdout",
     "output_type": "stream",
     "text": [
      "0.8572151899337769\n"
     ]
    }
   ],
   "source": [
    "print(np.mean(history_with_augmentation.history['val_accuracy'][15:]))"
   ]
  },
  {
   "cell_type": "code",
   "execution_count": null,
   "id": "0ac90c30-1d5b-4ba4-b311-154e7938c646",
   "metadata": {},
   "outputs": [],
   "source": []
  }
 ],
 "metadata": {
  "kernelspec": {
   "display_name": "default:Python",
   "language": "python",
   "name": "conda-env-default-py"
  },
  "language_info": {
   "codemirror_mode": {
    "name": "ipython",
    "version": 3
   },
   "file_extension": ".py",
   "mimetype": "text/x-python",
   "name": "python",
   "nbconvert_exporter": "python",
   "pygments_lexer": "ipython3",
   "version": "3.9.13"
  }
 },
 "nbformat": 4,
 "nbformat_minor": 5
}
