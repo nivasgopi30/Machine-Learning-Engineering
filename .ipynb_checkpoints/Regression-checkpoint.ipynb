{
 "cells": [
  {
   "cell_type": "markdown",
   "metadata": {},
   "source": [
    "### Importing Libraries"
   ]
  },
  {
   "cell_type": "code",
   "execution_count": 3,
   "metadata": {},
   "outputs": [],
   "source": [
    "import numpy as np\n",
    "import pandas as pd\n",
    "import matplotlib.pyplot as plt\n",
    "import seaborn as sns"
   ]
  },
  {
   "cell_type": "markdown",
   "metadata": {},
   "source": [
    "### Reading the CSV file"
   ]
  },
  {
   "cell_type": "code",
   "execution_count": 4,
   "metadata": {},
   "outputs": [],
   "source": [
    "housing_data = pd.read_csv('./Data Required for Projects/California_Housing.csv')\n",
    "housing_data = housing_data.drop(['ocean_proximity'], axis=1)"
   ]
  },
  {
   "cell_type": "code",
   "execution_count": 5,
   "metadata": {},
   "outputs": [
    {
     "data": {
      "text/html": [
       "<div>\n",
       "<style scoped>\n",
       "    .dataframe tbody tr th:only-of-type {\n",
       "        vertical-align: middle;\n",
       "    }\n",
       "\n",
       "    .dataframe tbody tr th {\n",
       "        vertical-align: top;\n",
       "    }\n",
       "\n",
       "    .dataframe thead th {\n",
       "        text-align: right;\n",
       "    }\n",
       "</style>\n",
       "<table border=\"1\" class=\"dataframe\">\n",
       "  <thead>\n",
       "    <tr style=\"text-align: right;\">\n",
       "      <th></th>\n",
       "      <th>longitude</th>\n",
       "      <th>latitude</th>\n",
       "      <th>housing_median_age</th>\n",
       "      <th>total_rooms</th>\n",
       "      <th>total_bedrooms</th>\n",
       "      <th>population</th>\n",
       "      <th>households</th>\n",
       "      <th>median_income</th>\n",
       "      <th>median_house_value</th>\n",
       "    </tr>\n",
       "  </thead>\n",
       "  <tbody>\n",
       "    <tr>\n",
       "      <th>0</th>\n",
       "      <td>-122.23</td>\n",
       "      <td>37.88</td>\n",
       "      <td>41</td>\n",
       "      <td>880</td>\n",
       "      <td>129.0</td>\n",
       "      <td>322</td>\n",
       "      <td>126</td>\n",
       "      <td>8.3252</td>\n",
       "      <td>452600</td>\n",
       "    </tr>\n",
       "    <tr>\n",
       "      <th>1</th>\n",
       "      <td>-122.22</td>\n",
       "      <td>37.86</td>\n",
       "      <td>21</td>\n",
       "      <td>7099</td>\n",
       "      <td>1106.0</td>\n",
       "      <td>2401</td>\n",
       "      <td>1138</td>\n",
       "      <td>8.3014</td>\n",
       "      <td>358500</td>\n",
       "    </tr>\n",
       "    <tr>\n",
       "      <th>2</th>\n",
       "      <td>-122.24</td>\n",
       "      <td>37.85</td>\n",
       "      <td>52</td>\n",
       "      <td>1467</td>\n",
       "      <td>190.0</td>\n",
       "      <td>496</td>\n",
       "      <td>177</td>\n",
       "      <td>7.2574</td>\n",
       "      <td>352100</td>\n",
       "    </tr>\n",
       "    <tr>\n",
       "      <th>3</th>\n",
       "      <td>-122.25</td>\n",
       "      <td>37.85</td>\n",
       "      <td>52</td>\n",
       "      <td>1274</td>\n",
       "      <td>235.0</td>\n",
       "      <td>558</td>\n",
       "      <td>219</td>\n",
       "      <td>5.6431</td>\n",
       "      <td>341300</td>\n",
       "    </tr>\n",
       "    <tr>\n",
       "      <th>4</th>\n",
       "      <td>-122.25</td>\n",
       "      <td>37.85</td>\n",
       "      <td>52</td>\n",
       "      <td>1627</td>\n",
       "      <td>280.0</td>\n",
       "      <td>565</td>\n",
       "      <td>259</td>\n",
       "      <td>3.8462</td>\n",
       "      <td>342200</td>\n",
       "    </tr>\n",
       "  </tbody>\n",
       "</table>\n",
       "</div>"
      ],
      "text/plain": [
       "   longitude  latitude  housing_median_age  total_rooms  total_bedrooms  \\\n",
       "0    -122.23     37.88                  41          880           129.0   \n",
       "1    -122.22     37.86                  21         7099          1106.0   \n",
       "2    -122.24     37.85                  52         1467           190.0   \n",
       "3    -122.25     37.85                  52         1274           235.0   \n",
       "4    -122.25     37.85                  52         1627           280.0   \n",
       "\n",
       "   population  households  median_income  median_house_value  \n",
       "0         322         126         8.3252              452600  \n",
       "1        2401        1138         8.3014              358500  \n",
       "2         496         177         7.2574              352100  \n",
       "3         558         219         5.6431              341300  \n",
       "4         565         259         3.8462              342200  "
      ]
     },
     "execution_count": 5,
     "metadata": {},
     "output_type": "execute_result"
    }
   ],
   "source": [
    "housing_data.head()"
   ]
  },
  {
   "cell_type": "markdown",
   "metadata": {},
   "source": [
    "### Exploratory Data Analysis"
   ]
  },
  {
   "cell_type": "code",
   "execution_count": 6,
   "metadata": {},
   "outputs": [
    {
     "data": {
      "text/plain": [
       "<AxesSubplot:xlabel='median_house_value', ylabel='Count'>"
      ]
     },
     "execution_count": 6,
     "metadata": {},
     "output_type": "execute_result"
    },
    {
     "data": {
      "image/png": "[encoded data removed]",
      "text/plain": [
       "<Figure size 640x480 with 1 Axes>"
      ]
     },
     "metadata": {},
     "output_type": "display_data"
    }
   ],
   "source": [
    "sns.histplot(housing_data['median_house_value'])"
   ]
  },
  {
   "cell_type": "code",
   "execution_count": 7,
   "metadata": {},
   "outputs": [
    {
     "name": "stdout",
     "output_type": "stream",
     "text": [
      "longitude               0\n",
      "latitude                0\n",
      "housing_median_age      0\n",
      "total_rooms             0\n",
      "total_bedrooms        207\n",
      "population              0\n",
      "households              0\n",
      "median_income           0\n",
      "median_house_value      0\n",
      "dtype: int64\n"
     ]
    }
   ],
   "source": [
    "print(housing_data.isnull().sum())"
   ]
  },
  {
   "cell_type": "code",
   "execution_count": 8,
   "metadata": {},
   "outputs": [
    {
     "name": "stdout",
     "output_type": "stream",
     "text": [
      "1166.0\n"
     ]
    }
   ],
   "source": [
    "print(np.median(housing_data['population']))"
   ]
  },
  {
   "cell_type": "markdown",
   "metadata": {},
   "source": [
    "### Shuffling the indices of data"
   ]
  },
  {
   "cell_type": "code",
   "execution_count": 9,
   "metadata": {},
   "outputs": [
    {
     "data": {
      "text/plain": [
       "array([    0,     1,     2, ..., 20637, 20638, 20639])"
      ]
     },
     "execution_count": 9,
     "metadata": {},
     "output_type": "execute_result"
    }
   ],
   "source": [
    "indexes = np.arange(len(housing_data))\n",
    "indexes"
   ]
  },
  {
   "cell_type": "code",
   "execution_count": 10,
   "metadata": {},
   "outputs": [],
   "source": [
    "np.random.seed(42)\n",
    "np.random.shuffle(indexes)"
   ]
  },
  {
   "cell_type": "code",
   "execution_count": 11,
   "metadata": {},
   "outputs": [
    {
     "name": "stdout",
     "output_type": "stream",
     "text": [
      "[20046  3024 15663 ...  5390   860 15795]\n"
     ]
    }
   ],
   "source": [
    "print(indexes)"
   ]
  },
  {
   "cell_type": "markdown",
   "metadata": {},
   "source": [
    "### Splitting Data"
   ]
  },
  {
   "cell_type": "code",
   "execution_count": 12,
   "metadata": {},
   "outputs": [
    {
     "name": "stdout",
     "output_type": "stream",
     "text": [
      "12384 4128 4128\n"
     ]
    }
   ],
   "source": [
    "n = len(housing_data)\n",
    "eval_split = int(n*0.2)\n",
    "test_split = int(n*0.2)\n",
    "train_split = n - (eval_split+test_split)\n",
    "print(train_split, eval_split, test_split)"
   ]
  },
  {
   "cell_type": "code",
   "execution_count": 13,
   "metadata": {},
   "outputs": [
    {
     "name": "stdout",
     "output_type": "stream",
     "text": [
      "(12384, 9) (4128, 9) (4128, 9)\n"
     ]
    }
   ],
   "source": [
    "train_data = housing_data.iloc[indexes[:train_split]]\n",
    "eval_data = housing_data.iloc[indexes[train_split:train_split+eval_split]]\n",
    "test_data = housing_data.iloc[indexes[train_split+eval_split:]]\n",
    "print(train_data.shape, eval_data.shape, test_data.shape)"
   ]
  },
  {
   "cell_type": "code",
   "execution_count": 14,
   "metadata": {},
   "outputs": [],
   "source": [
    "X_train = train_data.drop('median_house_value', axis=1)\n",
    "X_eval = eval_data.drop('median_house_value', axis=1)\n",
    "X_test = test_data.drop('median_house_value', axis=1)\n",
    "y_train = train_data['median_house_value']\n",
    "y_eval = eval_data['median_house_value']\n",
    "y_test = test_data['median_house_value']"
   ]
  },
  {
   "cell_type": "code",
   "execution_count": 15,
   "metadata": {},
   "outputs": [
    {
     "name": "stdout",
     "output_type": "stream",
     "text": [
      "(12384, 8) (12384,)\n",
      "(4128, 8) (4128,)\n",
      "(4128, 8) (4128,)\n"
     ]
    }
   ],
   "source": [
    "print(X_train.shape, y_train.shape)\n",
    "print(X_eval.shape, y_eval.shape)\n",
    "print(X_test.shape, y_test.shape)"
   ]
  },
  {
   "cell_type": "code",
   "execution_count": 16,
   "metadata": {},
   "outputs": [],
   "source": [
    "y_train_values = np.log1p(train_data['median_house_value'].values)\n",
    "y_eval_values = np.log1p(eval_data['median_house_value'].values)\n",
    "y_test_values = np.log1p(test_data['median_house_value'].values)"
   ]
  },
  {
   "cell_type": "markdown",
   "metadata": {},
   "source": [
    "### Avoiding Long Tail in the Histogram"
   ]
  },
  {
   "cell_type": "code",
   "execution_count": 17,
   "metadata": {},
   "outputs": [
    {
     "data": {
      "text/plain": [
       "<AxesSubplot:xlabel='median_house_value', ylabel='Count'>"
      ]
     },
     "execution_count": 17,
     "metadata": {},
     "output_type": "execute_result"
    },
    {
     "data": {
      "image/png": "[encoded data removed]",
      "text/plain": [
       "<Figure size 640x480 with 1 Axes>"
      ]
     },
     "metadata": {},
     "output_type": "display_data"
    }
   ],
   "source": [
    "log_of_house_prices = np.log1p(housing_data['median_house_value'])\n",
    "sns.histplot(log_of_house_prices, bins=50)"
   ]
  },
  {
   "cell_type": "markdown",
   "metadata": {},
   "source": [
    "### Linear Regression"
   ]
  },
  {
   "cell_type": "code",
   "execution_count": 18,
   "metadata": {},
   "outputs": [],
   "source": [
    "def train_linear_regression(X, y):\n",
    "    ones = np.ones(X.shape[0])\n",
    "    X = np.column_stack([ones, X])\n",
    "\n",
    "    XTX = X.T.dot(X)\n",
    "    XTX_inv = np.linalg.inv(XTX)\n",
    "    w = XTX_inv.dot(X.T).dot(y)\n",
    "    \n",
    "    return w[0], w[1:]"
   ]
  },
  {
   "cell_type": "code",
   "execution_count": 19,
   "metadata": {},
   "outputs": [],
   "source": [
    "def prepare_X(df):\n",
    "    df_num = df.fillna(0)\n",
    "    X = df_num.values\n",
    "    return X"
   ]
  },
  {
   "cell_type": "code",
   "execution_count": 20,
   "metadata": {},
   "outputs": [],
   "source": [
    "X_train_set = prepare_X(X_train)\n",
    "w0, w = train_linear_regression(X_train_set, y_train_values)"
   ]
  },
  {
   "cell_type": "code",
   "execution_count": 21,
   "metadata": {},
   "outputs": [],
   "source": [
    "y_pred = w0 + X_train_set.dot(w)"
   ]
  },
  {
   "cell_type": "markdown",
   "metadata": {},
   "source": [
    "### Metric - Root Mean Square Error (RMSE)"
   ]
  },
  {
   "cell_type": "code",
   "execution_count": 22,
   "metadata": {},
   "outputs": [],
   "source": [
    "def rmse(y, y_pred):\n",
    "    error = y_pred - y\n",
    "    mse = (error ** 2).mean()\n",
    "    return np.sqrt(mse)"
   ]
  },
  {
   "cell_type": "code",
   "execution_count": 23,
   "metadata": {},
   "outputs": [
    {
     "data": {
      "text/plain": [
       "0.34131359101566766"
      ]
     },
     "execution_count": 23,
     "metadata": {},
     "output_type": "execute_result"
    }
   ],
   "source": [
    "rmse(y_train_values, y_pred)"
   ]
  },
  {
   "cell_type": "code",
   "execution_count": 24,
   "metadata": {},
   "outputs": [
    {
     "name": "stdout",
     "output_type": "stream",
     "text": [
      "0.32800729288516434\n"
     ]
    }
   ],
   "source": [
    "X_eval_set = prepare_X(X_eval)\n",
    "w0, w = train_linear_regression(X_eval_set, y_eval_values)\n",
    "y_pred = w0 + X_eval_set.dot(w)\n",
    "score1 = rmse(y_eval_values, y_pred)\n",
    "print(score1)"
   ]
  },
  {
   "cell_type": "code",
   "execution_count": 25,
   "metadata": {},
   "outputs": [],
   "source": [
    "def prepare_X_mean_values(df):\n",
    "    df_num = df.fillna(df['total_bedrooms'].mean())\n",
    "    X = df_num.values\n",
    "    return X"
   ]
  },
  {
   "cell_type": "code",
   "execution_count": 26,
   "metadata": {},
   "outputs": [
    {
     "data": {
      "text/plain": [
       "0.3410416181032806"
      ]
     },
     "execution_count": 26,
     "metadata": {},
     "output_type": "execute_result"
    }
   ],
   "source": [
    "X_train_set_mean_approach = prepare_X_mean_values(X_train)\n",
    "w0, w = train_linear_regression(X_train_set_mean_approach, y_train_values)\n",
    "y_pred = w0 + X_train_set_mean_approach.dot(w)\n",
    "rmse(y_train_values, y_pred)"
   ]
  },
  {
   "cell_type": "code",
   "execution_count": 27,
   "metadata": {},
   "outputs": [
    {
     "name": "stdout",
     "output_type": "stream",
     "text": [
      "0.32800729288516434\n"
     ]
    }
   ],
   "source": [
    "X_eval_set_mean_approach = prepare_X_mean_values(X_eval)\n",
    "w0, w = train_linear_regression(X_eval_set_mean_approach, y_eval_values)\n",
    "y_pred_2 = w0 + X_eval_set_mean_approach.dot(w)\n",
    "score2 = rmse(y_eval_values, y_pred_2)\n",
    "print(score2)"
   ]
  },
  {
   "cell_type": "code",
   "execution_count": 28,
   "metadata": {},
   "outputs": [
    {
     "name": "stdout",
     "output_type": "stream",
     "text": [
      "0.33 0.33\n"
     ]
    }
   ],
   "source": [
    "print(round(score1, 2), round(score2, 2))"
   ]
  },
  {
   "cell_type": "markdown",
   "metadata": {},
   "source": [
    "### Regularization"
   ]
  },
  {
   "cell_type": "code",
   "execution_count": 29,
   "metadata": {},
   "outputs": [],
   "source": [
    "def train_linear_regression_reg(X, y, r=0.0):\n",
    "    ones = np.ones(X.shape[0])\n",
    "    X = np.column_stack([ones, X])\n",
    "\n",
    "    XTX = X.T.dot(X)\n",
    "    reg = r * np.eye(XTX.shape[0])\n",
    "    XTX = XTX + reg\n",
    "\n",
    "    XTX_inv = np.linalg.inv(XTX)\n",
    "    w = XTX_inv.dot(X.T).dot(y)\n",
    "    \n",
    "    return w[0], w[1:]"
   ]
  },
  {
   "cell_type": "code",
   "execution_count": 30,
   "metadata": {},
   "outputs": [
    {
     "name": "stdout",
     "output_type": "stream",
     "text": [
      "For r: 0.000001, rmse score is: 0.3413135910156898\n",
      "For r: 0.000100, rmse score is: 0.34131359123782024\n",
      "For r: 0.001000, rmse score is: 0.3413136131760799\n",
      "For r: 0.010000, rmse score is: 0.34131575330229497\n",
      "For r: 0.100000, rmse score is: 0.3414853062864339\n",
      "For r: 1.000000, rmse score is: 0.3452327944054982\n",
      "For r: 5.000000, rmse score is: 0.35016429871363136\n",
      "For r: 10.000000, rmse score is: 0.3513878391350598\n"
     ]
    }
   ],
   "source": [
    "training_set = prepare_X(X_train)\n",
    "\n",
    "for r in [0.000001, 0.0001, 0.001, 0.01, 0.1, 1, 5, 10]:\n",
    "    w0, w = train_linear_regression_reg(training_set, y_train_values, r=r)\n",
    "    y_pred = w0 + training_set.dot(w)\n",
    "    print(f\"For r: {r:.6f}, rmse score is: {rmse(y_train_values, y_pred)}\")"
   ]
  },
  {
   "cell_type": "markdown",
   "metadata": {},
   "source": [
    "### Parameter Tuning (Picking up the best value)"
   ]
  },
  {
   "cell_type": "code",
   "execution_count": 31,
   "metadata": {},
   "outputs": [
    {
     "name": "stdout",
     "output_type": "stream",
     "text": [
      "For r: 0.000001, rmse score is: 0.33\n",
      "For r: 0.000100, rmse score is: 0.33\n",
      "For r: 0.001000, rmse score is: 0.33\n",
      "For r: 0.010000, rmse score is: 0.33\n",
      "For r: 0.100000, rmse score is: 0.33\n",
      "For r: 1.000000, rmse score is: 0.34\n",
      "For r: 5.000000, rmse score is: 0.34\n",
      "For r: 10.000000, rmse score is: 0.34\n"
     ]
    }
   ],
   "source": [
    "evaluating_set = prepare_X(X_eval)\n",
    "\n",
    "for r in [0.000001, 0.0001, 0.001, 0.01, 0.1, 1, 5, 10]:\n",
    "    w0, w = train_linear_regression_reg(evaluating_set, y_eval_values, r=r)\n",
    "    y_pred = w0 + evaluating_set.dot(w)\n",
    "    print(f\"For r: {r:.6f}, rmse score is: {round(rmse(y_eval_values, y_pred), 2)}\")"
   ]
  },
  {
   "cell_type": "code",
   "execution_count": 32,
   "metadata": {},
   "outputs": [
    {
     "name": "stdout",
     "output_type": "stream",
     "text": [
      "For seed: 0, rmse score is: 0.338\n",
      "For seed: 1, rmse score is: 0.336\n",
      "For seed: 2, rmse score is: 0.331\n",
      "For seed: 3, rmse score is: 0.34\n",
      "For seed: 4, rmse score is: 0.336\n",
      "For seed: 5, rmse score is: 0.342\n",
      "For seed: 6, rmse score is: 0.343\n",
      "For seed: 7, rmse score is: 0.339\n",
      "For seed: 8, rmse score is: 0.345\n",
      "For seed: 9, rmse score is: 0.335\n"
     ]
    }
   ],
   "source": [
    "seeds = [0, 1, 2, 3, 4, 5, 6, 7, 8, 9]\n",
    "rmse_scores = []\n",
    "for s in seeds:\n",
    "\n",
    "    indexes = np.arange(n)\n",
    "    np.random.seed(s)\n",
    "    np.random.shuffle(indexes)\n",
    "    \n",
    "    train_data = housing_data.iloc[indexes[:train_split]]\n",
    "    eval_data = housing_data.iloc[indexes[train_split:train_split+eval_split]]\n",
    "    test_data = housing_data.iloc[indexes[train_split+eval_split:]]\n",
    "\n",
    "    X_train = train_data.drop('median_house_value', axis=1)\n",
    "    X_eval = eval_data.drop('median_house_value', axis=1)\n",
    "    X_test = test_data.drop('median_house_value', axis=1)\n",
    "\n",
    "    y_train = train_data['median_house_value']\n",
    "    y_eval = eval_data['median_house_value']\n",
    "    y_test = test_data['median_house_value']\n",
    "    \n",
    "    y_train_values = np.log1p(train_data['median_house_value'].values)\n",
    "    y_eval_values = np.log1p(eval_data['median_house_value'].values)\n",
    "    y_test_values = np.log1p(test_data['median_house_value'].values)\n",
    "\n",
    "    evaluating_set = prepare_X(X_eval)\n",
    "    w0, w = train_linear_regression(evaluating_set, y_eval_values)\n",
    "    y_pred = w0 + evaluating_set.dot(w)\n",
    "    print(f'For seed: {s}, rmse score is: {round(rmse(y_eval_values, y_pred), 3)}')\n",
    "    rmse_scores.append(round(rmse(y_eval_values, y_pred), 3))"
   ]
  },
  {
   "cell_type": "code",
   "execution_count": 35,
   "metadata": {},
   "outputs": [
    {
     "name": "stdout",
     "output_type": "stream",
     "text": [
      "0.003981205847478872\n"
     ]
    }
   ],
   "source": [
    "print(np.std(rmse_scores))"
   ]
  },
  {
   "cell_type": "code",
   "execution_count": 33,
   "metadata": {},
   "outputs": [
    {
     "name": "stdout",
     "output_type": "stream",
     "text": [
      "0.33977638801212\n"
     ]
    }
   ],
   "source": [
    "indexes = np.arange(n)\n",
    "np.random.seed(9)\n",
    "np.random.shuffle(indexes)\n",
    "train_data = housing_data.iloc[indexes[:train_split]]\n",
    "eval_data = housing_data.iloc[indexes[train_split:train_split+eval_split]]\n",
    "test_data = housing_data.iloc[indexes[train_split+eval_split:]]\n",
    "\n",
    "X_train = train_data.drop('median_house_value', axis=1)\n",
    "X_eval = eval_data.drop('median_house_value', axis=1)\n",
    "X_test = test_data.drop('median_house_value', axis=1)\n",
    "\n",
    "y_train = train_data['median_house_value']\n",
    "y_eval = eval_data['median_house_value']\n",
    "y_test = test_data['median_house_value']\n",
    "\n",
    "y_train_values = np.log1p(train_data['median_house_value'].values)\n",
    "y_eval_values = np.log1p(eval_data['median_house_value'].values)\n",
    "y_test_values = np.log1p(test_data['median_house_value'].values)\n",
    "\n",
    "full_X_train = pd.concat([X_train, X_eval])\n",
    "full_y_train = np.concatenate([y_train_values, y_eval_values])\n",
    "full_training_X = prepare_X(full_X_train)\n",
    "w0, w = train_linear_regression_reg(full_training_X, full_y_train, r=0.001)\n",
    "y_pred = w0 + full_training_X.dot(w)\n",
    "print(rmse(full_y_train, y_pred))"
   ]
  },
  {
   "cell_type": "markdown",
   "metadata": {},
   "source": [
    "### Final RMSE Score"
   ]
  },
  {
   "cell_type": "code",
   "execution_count": 34,
   "metadata": {},
   "outputs": [
    {
     "name": "stdout",
     "output_type": "stream",
     "text": [
      "0.34415219361264215\n"
     ]
    }
   ],
   "source": [
    "test_set = prepare_X(X_test)\n",
    "w0, w = train_linear_regression_reg(test_set, y_test_values, r=0.001)\n",
    "y_pred_final = w0 + test_set.dot(w)\n",
    "print(rmse(y_test_values, y_pred_final))"
   ]
  }
 ],
 "metadata": {
  "kernelspec": {
   "display_name": "Python 3.10.6 64-bit",
   "language": "python",
   "name": "python3"
  },
  "language_info": {
   "codemirror_mode": {
    "name": "ipython",
    "version": 3
   },
   "file_extension": ".py",
   "mimetype": "text/x-python",
   "name": "python",
   "nbconvert_exporter": "python",
   "pygments_lexer": "ipython3",
   "version": "3.10.6"
  },
  "orig_nbformat": 4,
  "vscode": {
   "interpreter": {
    "hash": "85c2f48a2650f7c60d5dfd0bb5bb5583835eab9c65dc0703a3442769110ea756"
   }
  }
 },
 "nbformat": 4,
 "nbformat_minor": 2
}
