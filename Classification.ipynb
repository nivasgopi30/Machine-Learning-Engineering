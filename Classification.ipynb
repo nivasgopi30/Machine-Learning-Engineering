{
 "cells": [
  {
   "cell_type": "code",
   "execution_count": 14,
   "metadata": {},
   "outputs": [],
   "source": [
    "import numpy as np\n",
    "import pandas as pd\n",
    "import matplotlib.pyplot as plt\n",
    "import seaborn as sns"
   ]
  },
  {
   "cell_type": "code",
   "execution_count": 15,
   "metadata": {},
   "outputs": [
    {
     "data": {
      "text/html": [
       "<div>\n",
       "<style scoped>\n",
       "    .dataframe tbody tr th:only-of-type {\n",
       "        vertical-align: middle;\n",
       "    }\n",
       "\n",
       "    .dataframe tbody tr th {\n",
       "        vertical-align: top;\n",
       "    }\n",
       "\n",
       "    .dataframe thead th {\n",
       "        text-align: right;\n",
       "    }\n",
       "</style>\n",
       "<table border=\"1\" class=\"dataframe\">\n",
       "  <thead>\n",
       "    <tr style=\"text-align: right;\">\n",
       "      <th></th>\n",
       "      <th>longitude</th>\n",
       "      <th>latitude</th>\n",
       "      <th>housing_median_age</th>\n",
       "      <th>total_rooms</th>\n",
       "      <th>total_bedrooms</th>\n",
       "      <th>population</th>\n",
       "      <th>households</th>\n",
       "      <th>median_income</th>\n",
       "      <th>median_house_value</th>\n",
       "      <th>ocean_proximity</th>\n",
       "    </tr>\n",
       "  </thead>\n",
       "  <tbody>\n",
       "    <tr>\n",
       "      <th>0</th>\n",
       "      <td>-122.23</td>\n",
       "      <td>37.88</td>\n",
       "      <td>41</td>\n",
       "      <td>880</td>\n",
       "      <td>129.0</td>\n",
       "      <td>322</td>\n",
       "      <td>126</td>\n",
       "      <td>8.3252</td>\n",
       "      <td>452600</td>\n",
       "      <td>NEAR BAY</td>\n",
       "    </tr>\n",
       "    <tr>\n",
       "      <th>1</th>\n",
       "      <td>-122.22</td>\n",
       "      <td>37.86</td>\n",
       "      <td>21</td>\n",
       "      <td>7099</td>\n",
       "      <td>1106.0</td>\n",
       "      <td>2401</td>\n",
       "      <td>1138</td>\n",
       "      <td>8.3014</td>\n",
       "      <td>358500</td>\n",
       "      <td>NEAR BAY</td>\n",
       "    </tr>\n",
       "    <tr>\n",
       "      <th>2</th>\n",
       "      <td>-122.24</td>\n",
       "      <td>37.85</td>\n",
       "      <td>52</td>\n",
       "      <td>1467</td>\n",
       "      <td>190.0</td>\n",
       "      <td>496</td>\n",
       "      <td>177</td>\n",
       "      <td>7.2574</td>\n",
       "      <td>352100</td>\n",
       "      <td>NEAR BAY</td>\n",
       "    </tr>\n",
       "    <tr>\n",
       "      <th>3</th>\n",
       "      <td>-122.25</td>\n",
       "      <td>37.85</td>\n",
       "      <td>52</td>\n",
       "      <td>1274</td>\n",
       "      <td>235.0</td>\n",
       "      <td>558</td>\n",
       "      <td>219</td>\n",
       "      <td>5.6431</td>\n",
       "      <td>341300</td>\n",
       "      <td>NEAR BAY</td>\n",
       "    </tr>\n",
       "    <tr>\n",
       "      <th>4</th>\n",
       "      <td>-122.25</td>\n",
       "      <td>37.85</td>\n",
       "      <td>52</td>\n",
       "      <td>1627</td>\n",
       "      <td>280.0</td>\n",
       "      <td>565</td>\n",
       "      <td>259</td>\n",
       "      <td>3.8462</td>\n",
       "      <td>342200</td>\n",
       "      <td>NEAR BAY</td>\n",
       "    </tr>\n",
       "  </tbody>\n",
       "</table>\n",
       "</div>"
      ],
      "text/plain": [
       "   longitude  latitude  housing_median_age  total_rooms  total_bedrooms  \\\n",
       "0    -122.23     37.88                  41          880           129.0   \n",
       "1    -122.22     37.86                  21         7099          1106.0   \n",
       "2    -122.24     37.85                  52         1467           190.0   \n",
       "3    -122.25     37.85                  52         1274           235.0   \n",
       "4    -122.25     37.85                  52         1627           280.0   \n",
       "\n",
       "   population  households  median_income  median_house_value ocean_proximity  \n",
       "0         322         126         8.3252              452600        NEAR BAY  \n",
       "1        2401        1138         8.3014              358500        NEAR BAY  \n",
       "2         496         177         7.2574              352100        NEAR BAY  \n",
       "3         558         219         5.6431              341300        NEAR BAY  \n",
       "4         565         259         3.8462              342200        NEAR BAY  "
      ]
     },
     "execution_count": 15,
     "metadata": {},
     "output_type": "execute_result"
    }
   ],
   "source": [
    "housing_data = pd.read_csv('./Data Required for Projects/California_Housing.csv')\n",
    "housing_data.head()"
   ]
  },
  {
   "cell_type": "code",
   "execution_count": 16,
   "metadata": {},
   "outputs": [],
   "source": [
    "housing_data = housing_data.fillna(0)"
   ]
  },
  {
   "cell_type": "code",
   "execution_count": 17,
   "metadata": {},
   "outputs": [
    {
     "name": "stdout",
     "output_type": "stream",
     "text": [
      "   longitude  latitude  housing_median_age  total_rooms  total_bedrooms  \\\n",
      "0    -122.23     37.88                  41          880           129.0   \n",
      "1    -122.22     37.86                  21         7099          1106.0   \n",
      "2    -122.24     37.85                  52         1467           190.0   \n",
      "3    -122.25     37.85                  52         1274           235.0   \n",
      "4    -122.25     37.85                  52         1627           280.0   \n",
      "\n",
      "   population  households  median_income  median_house_value ocean_proximity  \\\n",
      "0         322         126         8.3252              452600        NEAR BAY   \n",
      "1        2401        1138         8.3014              358500        NEAR BAY   \n",
      "2         496         177         7.2574              352100        NEAR BAY   \n",
      "3         558         219         5.6431              341300        NEAR BAY   \n",
      "4         565         259         3.8462              342200        NEAR BAY   \n",
      "\n",
      "   rooms_per_household  bedrooms_per_room  population_per_household  \n",
      "0             6.984127           0.146591                  2.555556  \n",
      "1             6.238137           0.155797                  2.109842  \n",
      "2             8.288136           0.129516                  2.802260  \n",
      "3             5.817352           0.184458                  2.547945  \n",
      "4             6.281853           0.172096                  2.181467  \n"
     ]
    }
   ],
   "source": [
    "housing_data['rooms_per_household'] = housing_data['total_rooms']/housing_data['households']\n",
    "housing_data['bedrooms_per_room'] = housing_data['total_bedrooms']/housing_data['total_rooms']\n",
    "housing_data['population_per_household'] = housing_data['population']/housing_data['households']\n",
    "print(housing_data.head())"
   ]
  },
  {
   "cell_type": "code",
   "execution_count": 18,
   "metadata": {},
   "outputs": [
    {
     "name": "stdout",
     "output_type": "stream",
     "text": [
      "0    <1H OCEAN\n",
      "Name: ocean_proximity, dtype: object\n"
     ]
    }
   ],
   "source": [
    "print(housing_data['ocean_proximity'].mode())"
   ]
  },
  {
   "cell_type": "code",
   "execution_count": 19,
   "metadata": {},
   "outputs": [],
   "source": [
    "from sklearn.linear_model import LogisticRegression\n",
    "from sklearn.model_selection import train_test_split"
   ]
  },
  {
   "cell_type": "code",
   "execution_count": 20,
   "metadata": {},
   "outputs": [],
   "source": [
    "X = housing_data.drop('median_house_value', axis=1)\n",
    "y = housing_data['median_house_value']\n",
    "X_full_train, X_test, y_full_train, y_test = train_test_split(X, y, test_size=0.2, random_state=42)"
   ]
  },
  {
   "cell_type": "code",
   "execution_count": 21,
   "metadata": {},
   "outputs": [
    {
     "name": "stdout",
     "output_type": "stream",
     "text": [
      "['ocean_proximity']\n",
      "['longitude', 'latitude', 'housing_median_age', 'total_rooms', 'total_bedrooms', 'population', 'households', 'median_income', 'rooms_per_household', 'bedrooms_per_room', 'population_per_household']\n"
     ]
    }
   ],
   "source": [
    "categorical = list(X_full_train.dtypes[X_full_train.dtypes==object].index)\n",
    "numerical = list(X_full_train.dtypes[X_full_train.dtypes!=object].index)\n",
    "print(categorical)\n",
    "print(numerical)"
   ]
  },
  {
   "cell_type": "code",
   "execution_count": 22,
   "metadata": {},
   "outputs": [
    {
     "name": "stdout",
     "output_type": "stream",
     "text": [
      "                          longitude  latitude  housing_median_age  \\\n",
      "longitude                  1.000000 -0.924664           -0.108197   \n",
      "latitude                  -0.924664  1.000000            0.011173   \n",
      "housing_median_age        -0.108197  0.011173            1.000000   \n",
      "total_rooms                0.044568 -0.036100           -0.361262   \n",
      "total_bedrooms             0.068082 -0.065318           -0.317063   \n",
      "population                 0.099773 -0.108785           -0.296244   \n",
      "households                 0.055310 -0.071035           -0.302916   \n",
      "median_income             -0.015176 -0.079809           -0.119034   \n",
      "rooms_per_household       -0.027540  0.106389           -0.153277   \n",
      "bedrooms_per_room          0.084836 -0.104112            0.125396   \n",
      "population_per_household   0.002476  0.002366            0.013191   \n",
      "\n",
      "                          total_rooms  total_bedrooms  population  households  \\\n",
      "longitude                    0.044568        0.068082    0.099773    0.055310   \n",
      "latitude                    -0.036100       -0.065318   -0.108785   -0.071035   \n",
      "housing_median_age          -0.361262       -0.317063   -0.296244   -0.302916   \n",
      "total_rooms                  1.000000        0.920196    0.857126    0.918484   \n",
      "total_bedrooms               0.920196        1.000000    0.866266    0.966507   \n",
      "population                   0.857126        0.866266    1.000000    0.907222   \n",
      "households                   0.918484        0.966507    0.907222    1.000000   \n",
      "median_income                0.198050       -0.007295    0.004834    0.013033   \n",
      "rooms_per_household          0.133798        0.002717   -0.072213   -0.080598   \n",
      "bedrooms_per_room           -0.174583        0.122205    0.031397    0.059818   \n",
      "population_per_household    -0.024581       -0.028019    0.069863   -0.027309   \n",
      "\n",
      "                          median_income  rooms_per_household  \\\n",
      "longitude                     -0.015176            -0.027540   \n",
      "latitude                      -0.079809             0.106389   \n",
      "housing_median_age            -0.119034            -0.153277   \n",
      "total_rooms                    0.198050             0.133798   \n",
      "total_bedrooms                -0.007295             0.002717   \n",
      "population                     0.004834            -0.072213   \n",
      "households                     0.013033            -0.080598   \n",
      "median_income                  1.000000             0.326895   \n",
      "rooms_per_household            0.326895             1.000000   \n",
      "bedrooms_per_room             -0.573836            -0.387465   \n",
      "population_per_household       0.018766            -0.004852   \n",
      "\n",
      "                          bedrooms_per_room  population_per_household  \n",
      "longitude                          0.084836                  0.002476  \n",
      "latitude                          -0.104112                  0.002366  \n",
      "housing_median_age                 0.125396                  0.013191  \n",
      "total_rooms                       -0.174583                 -0.024581  \n",
      "total_bedrooms                     0.122205                 -0.028019  \n",
      "population                         0.031397                  0.069863  \n",
      "households                         0.059818                 -0.027309  \n",
      "median_income                     -0.573836                  0.018766  \n",
      "rooms_per_household               -0.387465                 -0.004852  \n",
      "bedrooms_per_room                  1.000000                  0.003047  \n",
      "population_per_household           0.003047                  1.000000  \n"
     ]
    }
   ],
   "source": [
    "print(housing_data[numerical].corr())"
   ]
  },
  {
   "cell_type": "code",
   "execution_count": 23,
   "metadata": {},
   "outputs": [],
   "source": [
    "X_train, X_val, y_train, y_val = train_test_split(X_full_train, y_full_train, test_size=0.25, random_state=42)"
   ]
  },
  {
   "cell_type": "code",
   "execution_count": 24,
   "metadata": {},
   "outputs": [
    {
     "name": "stdout",
     "output_type": "stream",
     "text": [
      "       longitude  latitude  housing_median_age  total_rooms  total_bedrooms  \\\n",
      "17244    -119.67     34.43                  39         1467           381.0   \n",
      "8817     -118.32     33.74                  24         6097           794.0   \n",
      "19686    -121.62     39.13                  41         1317           309.0   \n",
      "3545     -118.63     34.24                   9         4759           924.0   \n",
      "17019    -122.30     37.52                  38         2769           387.0   \n",
      "\n",
      "       population  households  median_income ocean_proximity  \\\n",
      "17244        1404         374         2.3681       <1H OCEAN   \n",
      "8817         2248         806        10.1357      NEAR OCEAN   \n",
      "19686         856         337         1.6719          INLAND   \n",
      "3545         1884         915         4.8333       <1H OCEAN   \n",
      "17019         994         395         5.5902      NEAR OCEAN   \n",
      "\n",
      "       rooms_per_household  bedrooms_per_room  population_per_household  \\\n",
      "17244             3.922460           0.259714                  3.754011   \n",
      "8817              7.564516           0.130228                  2.789082   \n",
      "19686             3.908012           0.234624                  2.540059   \n",
      "3545              5.201093           0.194158                  2.059016   \n",
      "17019             7.010127           0.139762                  2.516456   \n",
      "\n",
      "       above_avg  \n",
      "17244          1  \n",
      "8817           1  \n",
      "19686          0  \n",
      "3545           1  \n",
      "17019          1  \n"
     ]
    }
   ],
   "source": [
    "X_train['above_avg'] = np.where(y_train > y_train.mean(), 1, 0)\n",
    "print(X_train.head())"
   ]
  },
  {
   "cell_type": "code",
   "execution_count": 45,
   "metadata": {},
   "outputs": [
    {
     "name": "stdout",
     "output_type": "stream",
     "text": [
      "       longitude  latitude  housing_median_age  total_rooms  total_bedrooms  \\\n",
      "2071     -119.85     36.74                  35         1191           190.0   \n",
      "2612     -124.16     41.02                  23         1672           385.0   \n",
      "10838    -117.92     33.67                  14         6224          1679.0   \n",
      "4061     -118.45     34.15                  10         1091           260.0   \n",
      "10767    -117.90     33.63                  28         2370           352.0   \n",
      "\n",
      "       population  households  median_income ocean_proximity  \\\n",
      "2071          537         182         3.5375          INLAND   \n",
      "2612         1060         390         2.1726      NEAR OCEAN   \n",
      "10838        3148        1589         4.2071       <1H OCEAN   \n",
      "4061          517         266         4.1727       <1H OCEAN   \n",
      "10767         832         347         7.1148       <1H OCEAN   \n",
      "\n",
      "       rooms_per_household  bedrooms_per_room  population_per_household  \\\n",
      "2071              6.543956           0.159530                  2.950549   \n",
      "2612              4.287179           0.230263                  2.717949   \n",
      "10838             3.916929           0.269762                  1.981120   \n",
      "4061              4.101504           0.238313                  1.943609   \n",
      "10767             6.829971           0.148523                  2.397695   \n",
      "\n",
      "       above_avg  \n",
      "2071           0  \n",
      "2612           0  \n",
      "10838          1  \n",
      "4061           1  \n",
      "10767          1  \n"
     ]
    }
   ],
   "source": [
    "X_val['above_avg'] = np.where(y_val > y_val.mean(), 1, 0)\n",
    "print(X_val.head())"
   ]
  },
  {
   "cell_type": "code",
   "execution_count": 46,
   "metadata": {},
   "outputs": [
    {
     "name": "stdout",
     "output_type": "stream",
     "text": [
      "       longitude  latitude  housing_median_age  total_rooms  total_bedrooms  \\\n",
      "20046    -119.01     36.06                  25         1505             0.0   \n",
      "3024     -119.46     35.14                  30         2943             0.0   \n",
      "15663    -122.44     37.80                  52         3830             0.0   \n",
      "20484    -118.72     34.28                  17         3051             0.0   \n",
      "9814     -121.93     36.62                  34         2351             0.0   \n",
      "\n",
      "       population  households  median_income ocean_proximity  \\\n",
      "20046        1392         359         1.6812          INLAND   \n",
      "3024         1565         584         2.5313          INLAND   \n",
      "15663        1310         963         3.4801        NEAR BAY   \n",
      "20484        1705         495         5.7376       <1H OCEAN   \n",
      "9814         1063         428         3.7250      NEAR OCEAN   \n",
      "\n",
      "       rooms_per_household  bedrooms_per_room  population_per_household  \\\n",
      "20046             4.192201                0.0                  3.877437   \n",
      "3024              5.039384                0.0                  2.679795   \n",
      "15663             3.977155                0.0                  1.360332   \n",
      "20484             6.163636                0.0                  3.444444   \n",
      "9814              5.492991                0.0                  2.483645   \n",
      "\n",
      "       above_avg  \n",
      "20046          0  \n",
      "3024           0  \n",
      "15663          1  \n",
      "20484          1  \n",
      "9814           1  \n"
     ]
    }
   ],
   "source": [
    "X_test['above_avg'] = np.where(y_test > y_test.mean(), 1, 0)\n",
    "print(X_test.head())"
   ]
  },
  {
   "cell_type": "code",
   "execution_count": 25,
   "metadata": {},
   "outputs": [
    {
     "name": "stdout",
     "output_type": "stream",
     "text": [
      "0.1\n"
     ]
    }
   ],
   "source": [
    "from sklearn.metrics import mutual_info_score\n",
    "\n",
    "mi_score = mutual_info_score(X_train['above_avg'], X_train['ocean_proximity'])\n",
    "print(round(mi_score, 2))"
   ]
  },
  {
   "cell_type": "code",
   "execution_count": 26,
   "metadata": {},
   "outputs": [],
   "source": [
    "from sklearn.feature_extraction import DictVectorizer\n",
    "from sklearn.linear_model import LogisticRegression\n",
    "\n",
    "dv = DictVectorizer(sparse=False)\n",
    "train_dicts = X_train[categorical+numerical].to_dict(orient='records')\n",
    "train_vectors = dv.fit_transform(train_dicts)"
   ]
  },
  {
   "cell_type": "code",
   "execution_count": 48,
   "metadata": {},
   "outputs": [],
   "source": [
    "y_train = X_train['above_avg']\n",
    "y_val = X_val['above_avg']\n",
    "y_test = X_test['above_avg']\n",
    "\n",
    "X_train = X_train.drop('above_avg', axis=1)\n",
    "X_val = X_val.drop('above_avg', axis=1)\n",
    "X_test = X_test.drop('above_avg', axis=1)"
   ]
  },
  {
   "cell_type": "code",
   "execution_count": 49,
   "metadata": {},
   "outputs": [
    {
     "name": "stderr",
     "output_type": "stream",
     "text": [
      "C:\\Users\\Nivas Gopi\\anaconda3\\lib\\site-packages\\sklearn\\linear_model\\_logistic.py:814: ConvergenceWarning: lbfgs failed to converge (status=1):\n",
      "STOP: TOTAL NO. of ITERATIONS REACHED LIMIT.\n",
      "\n",
      "Increase the number of iterations (max_iter) or scale the data as shown in:\n",
      "    https://scikit-learn.org/stable/modules/preprocessing.html\n",
      "Please also refer to the documentation for alternative solver options:\n",
      "    https://scikit-learn.org/stable/modules/linear_model.html#logistic-regression\n",
      "  n_iter_i = _check_optimize_result(\n"
     ]
    },
    {
     "data": {
      "text/plain": [
       "LogisticRegression()"
      ]
     },
     "execution_count": 49,
     "metadata": {},
     "output_type": "execute_result"
    }
   ],
   "source": [
    "model = LogisticRegression()\n",
    "model.fit(train_vectors, y_train)"
   ]
  },
  {
   "cell_type": "code",
   "execution_count": 50,
   "metadata": {},
   "outputs": [
    {
     "name": "stdout",
     "output_type": "stream",
     "text": [
      "(4128,)\n"
     ]
    }
   ],
   "source": [
    "val_dicts = X_val[categorical+numerical].to_dict(orient='records')\n",
    "val_vectors = dv.transform(val_dicts)\n",
    "y_pred = model.predict(val_vectors)\n",
    "print(y_pred.shape)"
   ]
  },
  {
   "cell_type": "code",
   "execution_count": 81,
   "metadata": {},
   "outputs": [
    {
     "name": "stdout",
     "output_type": "stream",
     "text": [
      "0.809\n"
     ]
    }
   ],
   "source": [
    "from sklearn.metrics import accuracy_score\n",
    "\n",
    "original_accuracy = accuracy_score(y_pred, y_val)\n",
    "orig_acc_score = round(original_accuracy, 3)\n",
    "print(orig_acc_score)"
   ]
  },
  {
   "cell_type": "code",
   "execution_count": 82,
   "metadata": {},
   "outputs": [],
   "source": [
    "def accuracy_without_feature(feature):\n",
    "    X_train_without_feature = X_train.drop(feature, axis=1).to_dict(orient='records')\n",
    "    X_val_without_feature = X_val.drop(feature, axis=1).to_dict(orient='records')\n",
    "    X_test_without_feature = X_test.drop(feature, axis=1).to_dict(orient='records')\n",
    "    \n",
    "    dv = DictVectorizer(sparse=False)\n",
    "    X_train_without_feature_vectors = dv.fit_transform(X_train_without_feature)\n",
    "    X_val_without_feature_vectors = dv.transform(X_val_without_feature)\n",
    "    \n",
    "    lr = LogisticRegression()\n",
    "    lr.fit(X_train_without_feature_vectors, y_train)\n",
    "    y_pred_without_feature = lr.predict(X_val_without_feature_vectors)\n",
    "    \n",
    "    return accuracy_score(y_pred_without_feature, y_val)"
   ]
  },
  {
   "cell_type": "code",
   "execution_count": 83,
   "metadata": {},
   "outputs": [
    {
     "name": "stdout",
     "output_type": "stream",
     "text": [
      "Accuracy without the feature longitude is: 0.816 and the accuracy difference is: -0.006999999999999895\n",
      "Accuracy without the feature latitude is: 0.823 and the accuracy difference is: -0.013999999999999901\n",
      "Accuracy without the feature housing_median_age is: 0.798 and the accuracy difference is: 0.01100000000000001\n",
      "Accuracy without the feature total_rooms is: 0.834 and the accuracy difference is: -0.02499999999999991\n",
      "Accuracy without the feature total_bedrooms is: 0.828 and the accuracy difference is: -0.018999999999999906\n",
      "Accuracy without the feature population is: 0.827 and the accuracy difference is: -0.017999999999999905\n",
      "Accuracy without the feature households is: 0.83 and the accuracy difference is: -0.020999999999999908\n",
      "Accuracy without the feature median_income is: 0.755 and the accuracy difference is: 0.05400000000000005\n",
      "Accuracy without the feature ocean_proximity is: 0.8 and the accuracy difference is: 0.009000000000000008\n",
      "Accuracy without the feature rooms_per_household is: 0.808 and the accuracy difference is: 0.0010000000000000009\n",
      "Accuracy without the feature bedrooms_per_room is: 0.805 and the accuracy difference is: 0.0040000000000000036\n",
      "Accuracy without the feature population_per_household is: 0.805 and the accuracy difference is: 0.0040000000000000036\n"
     ]
    }
   ],
   "source": [
    "import warnings\n",
    "\n",
    "features_list = list(X_train.columns)\n",
    "\n",
    "with warnings.catch_warnings():\n",
    "    warnings.simplefilter(\"ignore\")\n",
    "    for feature in features_list:\n",
    "        acc_score = round(accuracy_without_feature(feature), 3)\n",
    "        print(f'Accuracy without the feature {feature} is: {acc_score} and the accuracy difference is: {orig_acc_score - acc_score}')"
   ]
  },
  {
   "cell_type": "code",
   "execution_count": 87,
   "metadata": {},
   "outputs": [],
   "source": [
    "def rmse(y, y_pred):\n",
    "    error = y_pred - y\n",
    "    mse = (error ** 2).mean()\n",
    "    return np.sqrt(mse)"
   ]
  },
  {
   "cell_type": "code",
   "execution_count": 92,
   "metadata": {},
   "outputs": [
    {
     "name": "stdout",
     "output_type": "stream",
     "text": [
      "RMSE score for alpha 0 is: 239035.852094729\n",
      "RMSE score for alpha 0.01 is: 239035.852094729\n",
      "RMSE score for alpha 0.1 is: 239035.85209472908\n",
      "RMSE score for alpha 1 is: 239035.85209473036\n",
      "RMSE score for alpha 10 is: 239035.85209474585\n"
     ]
    }
   ],
   "source": [
    "from sklearn.linear_model import Ridge\n",
    "\n",
    "X = housing_data.drop('median_house_value', axis=1)\n",
    "y = housing_data['median_house_value']\n",
    "X_full_train, X_test, y_full_train, y_test = train_test_split(X, y, test_size=0.2, random_state=42)\n",
    "X_train, X_val, y_train, y_val = train_test_split(X_full_train, y_full_train, test_size=0.25, random_state=42)\n",
    "y_train_values = np.log1p(y_train.values)\n",
    "y_val_values = np.log1p(y_val.values)\n",
    "\n",
    "for a in [0, 0.01, 0.1, 1, 10]:\n",
    "    model = Ridge(alpha=a, solver=\"sag\", random_state=42)\n",
    "    model.fit(train_vectors, y_train_values)\n",
    "    pred = model.predict(val_vectors)\n",
    "    print(f\"RMSE score for alpha {a} is: {rmse(pred, y_val)}\")"
   ]
  }
 ],
 "metadata": {
  "kernelspec": {
   "display_name": "Python 3 (ipykernel)",
   "language": "python",
   "name": "python3"
  },
  "language_info": {
   "codemirror_mode": {
    "name": "ipython",
    "version": 3
   },
   "file_extension": ".py",
   "mimetype": "text/x-python",
   "name": "python",
   "nbconvert_exporter": "python",
   "pygments_lexer": "ipython3",
   "version": "3.9.12"
  },
  "vscode": {
   "interpreter": {
    "hash": "85c2f48a2650f7c60d5dfd0bb5bb5583835eab9c65dc0703a3442769110ea756"
   }
  }
 },
 "nbformat": 4,
 "nbformat_minor": 4
}
